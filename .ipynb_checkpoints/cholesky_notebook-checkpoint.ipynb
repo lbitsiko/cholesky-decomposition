{
 "cells": [
  {
   "cell_type": "code",
   "execution_count": 1,
   "metadata": {},
   "outputs": [],
   "source": [
    "import numpy as np"
   ]
  },
  {
   "cell_type": "code",
   "execution_count": 10,
   "metadata": {},
   "outputs": [],
   "source": [
    "# cholesky decomposition by rows algorithm implementation\n",
    "def cholesky_decomp(A):\n",
    "    L = np.zeros_like(A)\n",
    "    n = len(L)\n",
    "    for i in range(n):\n",
    "        for j in range(i+1):#algo for j=1~i-1, but python starts with 0 so it's till i, but range does not include i+1\n",
    "            if i==j:\n",
    "                L[i,i] = np.sqrt(A[i,i]-np.sum(np.square(L[i,:i]))) #array[:i] means elements till i-1\n",
    "            else:\n",
    "                L[i,j] = (A[i,j] - np.sum(L[i,:j]*L[j,:j]))/L[j,j]\n",
    "    return L"
   ]
  },
  {
   "cell_type": "code",
   "execution_count": 3,
   "metadata": {},
   "outputs": [],
   "source": [
    "# test that cholesky_decomp() is correct\n",
    "A = np.random.randn(10,10)\n",
    "A = A.dot(A.T) # now A is positive definite"
   ]
  },
  {
   "cell_type": "code",
   "execution_count": 4,
   "metadata": {},
   "outputs": [],
   "source": [
    "def is_pos_def(x):\n",
    "    return np.all(np.linalg.eigvals(x) > 0)"
   ]
  },
  {
   "cell_type": "code",
   "execution_count": 6,
   "metadata": {},
   "outputs": [
    {
     "data": {
      "text/plain": [
       "True"
      ]
     },
     "execution_count": 6,
     "metadata": {},
     "output_type": "execute_result"
    }
   ],
   "source": [
    "is_pos_def(A)"
   ]
  },
  {
   "cell_type": "code",
   "execution_count": 9,
   "metadata": {},
   "outputs": [
    {
     "data": {
      "text/plain": [
       "True"
      ]
     },
     "execution_count": 9,
     "metadata": {},
     "output_type": "execute_result"
    }
   ],
   "source": [
    "my_cholesky_decomposition = cholesky_decomp(A)\n",
    "python_cholesky_decomposition = np.linalg.cholesky(A)\n",
    "np.allclose(my_cholesky_decomposition, python_cholesky_decomposition)"
   ]
  },
  {
   "cell_type": "code",
   "execution_count": 12,
   "metadata": {},
   "outputs": [],
   "source": [
    "# algorithms for solving the system Ax =b\n",
    "# using the Cholesky decomposition algorithm\n",
    "def solve_cholesky_forwards(A, b):\n",
    "    n = len(b)\n",
    "    x = np.zeros_like(b)\n",
    "    for i in range(n):\n",
    "        if i==0:\n",
    "            x[0] = b[0] / A[0, 0]\n",
    "        else:\n",
    "            x[i] = (b[i] - A[i, i - 1] * x[i - 1]) / A[i, i]\n",
    "    return x\n",
    "\n",
    "def solve_cholesky_backwards(A, b):\n",
    "    n = len(b)\n",
    "    x = np.zeros_like(b)\n",
    "    for i in range(n-1,-1,-1):\n",
    "        if i == n-1:\n",
    "            x[n-1] = b[n - 1] / A[n - 1, n - 1]\n",
    "        else:\n",
    "            x[i] = (b[i] - A[i, i + 1] * x[i + 1]) / A[i, i]\n",
    "    return x\n",
    "\n",
    "def solve_cholesky(A,b):\n",
    "    L = cholesky_decomp(A)\n",
    "    y = solve_cholesky_forwards(L,b)\n",
    "    x = solve_cholesky_backwards(L.T,y)\n",
    "    return x"
   ]
  },
  {
   "cell_type": "code",
   "execution_count": 14,
   "metadata": {},
   "outputs": [
    {
     "name": "stdout",
     "output_type": "stream",
     "text": [
      "True\n",
      "True\n",
      "[2. 2. 1.]\n",
      "[2. 2. 1.]\n"
     ]
    }
   ],
   "source": [
    "# Test that solving algorithms are correct\n",
    "M = np.array([[2.,-1.,0.],\n",
    "              [-1.,2.,-1.],\n",
    "              [0.,-1.,2.]])\n",
    "b = np.array([2.,1.,0.])\n",
    "print(is_pos_def(M))\n",
    "np_solution = np.linalg.solve(M,b)\n",
    "my_solution = solve_cholesky(M, b)\n",
    "print(np.allclose(my_solution, np_solution))\n",
    "print(my_solution)\n",
    "print(np_solution)"
   ]
  },
  {
   "cell_type": "code",
   "execution_count": null,
   "metadata": {},
   "outputs": [],
   "source": []
  }
 ],
 "metadata": {
  "kernelspec": {
   "display_name": "Python 3",
   "language": "python",
   "name": "python3"
  },
  "language_info": {
   "codemirror_mode": {
    "name": "ipython",
    "version": 3
   },
   "file_extension": ".py",
   "mimetype": "text/x-python",
   "name": "python",
   "nbconvert_exporter": "python",
   "pygments_lexer": "ipython3",
   "version": "3.8.1"
  }
 },
 "nbformat": 4,
 "nbformat_minor": 4
}
