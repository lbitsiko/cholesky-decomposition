{
 "cells": [
  {
   "cell_type": "code",
   "execution_count": 1,
   "metadata": {},
   "outputs": [],
   "source": [
    "import numpy as np"
   ]
  },
  {
   "cell_type": "code",
   "execution_count": 2,
   "metadata": {},
   "outputs": [],
   "source": [
    "from scipy.sparse import spdiags\n",
    "\n",
    "# Cholesky decomposition algorithm\n",
    "# for a tridiagonal nxn matrix\n",
    "def decomp_cholesky_tridiag(A):\n",
    "    l_diag = []\n",
    "    l_offdiag = []\n",
    "    n = A.shape[0]\n",
    "\n",
    "    ds = A.diagonal() #d_i\n",
    "    es = A.diagonal(-1) #e_i\n",
    "\n",
    "    l_diag.append(np.sqrt(ds[0])) # l_11 = sqrt(d_1)\n",
    "    for i in range(1, n): # i=2~n-1  (in python i=1~n-2)\n",
    "        l_offdiag.append(es[i-1]/l_diag[i-1]) #l_{i,i-1} = e_i / l_{i-1,i-1}\n",
    "        l_diag.append(np.sqrt(ds[i]-np.square(l_offdiag[i-1]))) # l_{ii} = sqrt(d_i - (l_{i,i-1})^2)\n",
    "    l_offdiag = np.insert(l_offdiag,n-1,0.0) # necessary for spdiags\n",
    "\n",
    "    l_diag = np.array(l_diag)\n",
    "    l_offdiag = np.array(l_offdiag)\n",
    "\n",
    "    #l_diag, l_offdiag transformed to diagonal matrix L\n",
    "    diags_forL = np.array([l_diag, l_offdiag])\n",
    "    positions_of_diags_forL = np.array([0, -1])\n",
    "    L = spdiags(diags_forL, positions_of_diags_forL, n, n)\n",
    "\n",
    "    return L"
   ]
  },
  {
   "cell_type": "code",
   "execution_count": 3,
   "metadata": {},
   "outputs": [
    {
     "data": {
      "text/plain": [
       "array([[ 2., -1.,  0.],\n",
       "       [-1.,  2., -1.],\n",
       "       [ 0., -1.,  2.]])"
      ]
     },
     "execution_count": 3,
     "metadata": {},
     "output_type": "execute_result"
    }
   ],
   "source": [
    "# check that my cholesky decomposition algorithm agrees with numpy's\n",
    "diag = 2.0*np.ones(3)\n",
    "off_diag = -1.0*np.ones(3)\n",
    "diags = np.array([diag,off_diag,off_diag])\n",
    "position_diags = np.array([0,-1,1])\n",
    "M = spdiags(diags, position_diags, 3,3)\n",
    "M.toarray()"
   ]
  },
  {
   "cell_type": "code",
   "execution_count": 4,
   "metadata": {},
   "outputs": [],
   "source": [
    "def is_pos_def(x):\n",
    "    return np.all(np.linalg.eigvals(x) > 0)"
   ]
  },
  {
   "cell_type": "code",
   "execution_count": 5,
   "metadata": {},
   "outputs": [
    {
     "data": {
      "text/plain": [
       "True"
      ]
     },
     "execution_count": 5,
     "metadata": {},
     "output_type": "execute_result"
    }
   ],
   "source": [
    "is_pos_def(M.toarray())"
   ]
  },
  {
   "cell_type": "code",
   "execution_count": 6,
   "metadata": {},
   "outputs": [
    {
     "data": {
      "text/plain": [
       "True"
      ]
     },
     "execution_count": 6,
     "metadata": {},
     "output_type": "execute_result"
    }
   ],
   "source": [
    "my_cholesky_decomposition = decomp_cholesky_tridiag(M)\n",
    "np_cholesky_decomposition = np.linalg.cholesky(M.toarray())\n",
    "np.allclose(my_cholesky_decomposition.toarray(), np_cholesky_decomposition)"
   ]
  },
  {
   "cell_type": "code",
   "execution_count": 7,
   "metadata": {},
   "outputs": [],
   "source": [
    "# Algorithms for solving the system Ax =b\n",
    "# using the Cholesky decomposition algorithm\n",
    "\n",
    "def solve_cholesky_forwards(L, b):\n",
    "    n = len(b)\n",
    "    l_diag = L.diagonal() # l_{i,i}\n",
    "    l_offfdiag = L.diagonal(-1) # l_{i,i-1}\n",
    "    y = [b[0] / l_diag[0]] #y_1 = b_1/l_{11}\n",
    "    for i in range(1,n): #i=2,..,n\n",
    "        y.append((b[i] - l_offfdiag[i-1]*y[i-1])/l_diag[i]) # y_i = (b_i-l_{i,i-1}*y_{i-1})/l_{ii}\n",
    "    return np.array(y)\n",
    "\n",
    "def solve_cholesky_backwards(L, y):\n",
    "    n = len(y)\n",
    "    l_diag = L.diagonal() # l_{i,i}\n",
    "    l_off_diag = L.diagonal(1) # l_{i,i+1}\n",
    "\n",
    "    x = [y[n-1]/l_diag[n-1]] # x_n = y_n/l_{nn}\n",
    "    count = 0\n",
    "    for i in range(n-2,-1,-1):\n",
    "        count += 1\n",
    "        x.append((y[i] - l_off_diag[i]*x[count -1 ])/l_diag[i]) #(y_i - l_{i+1,i}*x_{i+1})/l_{i,i}\n",
    "    return np.array(x[::-1])\n",
    "\n",
    "def solve_cholesky(A,b):\n",
    "    L = decomp_cholesky_tridiag(A)\n",
    "    y = solve_cholesky_forwards(L,b)\n",
    "    x = solve_cholesky_backwards(L.T,y)\n",
    "    return x"
   ]
  },
  {
   "cell_type": "code",
   "execution_count": 8,
   "metadata": {},
   "outputs": [
    {
     "name": "stdout",
     "output_type": "stream",
     "text": [
      "[[ 2. -1.  0.]\n",
      " [-1.  2. -1.]\n",
      " [ 0. -1.  2.]]\n",
      "True\n",
      "[2. 2. 1.]\n",
      "[2. 2. 1.]\n"
     ]
    }
   ],
   "source": [
    "# check that solving algorithms agree with numpy's linalg solve function\n",
    "print(M.toarray())\n",
    "b = np.array([2.,1.,0.])\n",
    "np_solution = np.linalg.solve(M.toarray(),b)\n",
    "my_solution = solve_cholesky(M, b)\n",
    "print(np.allclose(my_solution, np_solution))\n",
    "print(my_solution)\n",
    "print(np_solution)"
   ]
  },
  {
   "cell_type": "code",
   "execution_count": 9,
   "metadata": {},
   "outputs": [
    {
     "name": "stdout",
     "output_type": "stream",
     "text": [
      "[[1001.    3.    0. ...    0.    0.    0.]\n",
      " [   3. 1002.    4. ...    0.    0.    0.]\n",
      " [   0.    4. 1003. ...    0.    0.    0.]\n",
      " ...\n",
      " [   0.    0.    0. ... 1498.  500.    0.]\n",
      " [   0.    0.    0. ...  500. 1499.  501.]\n",
      " [   0.    0.    0. ...    0.  501. 1500.]]\n",
      "<class 'scipy.sparse.dia.dia_matrix'>\n"
     ]
    },
    {
     "data": {
      "text/plain": [
       "True"
      ]
     },
     "execution_count": 9,
     "metadata": {},
     "output_type": "execute_result"
    }
   ],
   "source": [
    "# A is 500x500 tridiagonal, positive definite\n",
    "# and:\n",
    "# di = 1000 + i 1<=i<=500\n",
    "# ei = 1 + i    2<=i<=500\n",
    "# bi = 1 + i    1<=i<=500\n",
    "# \n",
    "# A is stored as a sparse matrix\n",
    "\n",
    "n = 500\n",
    "d = np.float64(np.arange(1001,1001+n)) #principal diagonal elements, d_i\n",
    "off_diag = np.float64(np.arange(2,n+3))\n",
    "es = off_diag[1:]\n",
    "fs = off_diag[:len(off_diag)-1] # f_i=e_i\n",
    "\n",
    "diagonal_elements = np.array([d, es, fs])\n",
    "diagonal_positions = np.array([0,-1,1])\n",
    "A = spdiags(diagonal_elements, diagonal_positions, n, n)\n",
    "print(A.toarray())\n",
    "print(type(A))\n",
    "is_pos_def(A.toarray())"
   ]
  },
  {
   "cell_type": "code",
   "execution_count": 10,
   "metadata": {},
   "outputs": [
    {
     "name": "stdout",
     "output_type": "stream",
     "text": [
      "Wall time: 6.45 ms\n"
     ]
    },
    {
     "data": {
      "text/plain": [
       "<500x500 sparse matrix of type '<class 'numpy.float64'>'\n",
       "\twith 999 stored elements (2 diagonals) in DIAgonal format>"
      ]
     },
     "execution_count": 10,
     "metadata": {},
     "output_type": "execute_result"
    }
   ],
   "source": [
    "%time decomp_cholesky_tridiag(A)"
   ]
  },
  {
   "cell_type": "code",
   "execution_count": 11,
   "metadata": {},
   "outputs": [
    {
     "name": "stdout",
     "output_type": "stream",
     "text": [
      "Wall time: 24.8 ms\n"
     ]
    },
    {
     "data": {
      "text/plain": [
       "array([[31.63858404,  0.        ,  0.        , ...,  0.        ,\n",
       "         0.        ,  0.        ],\n",
       "       [ 0.09482093, 31.65424156,  0.        , ...,  0.        ,\n",
       "         0.        ,  0.        ],\n",
       "       [ 0.        ,  0.12636537, 31.66992314, ...,  0.        ,\n",
       "         0.        ,  0.        ],\n",
       "       ...,\n",
       "       [ 0.        ,  0.        ,  0.        , ..., 36.15967674,\n",
       "         0.        ,  0.        ],\n",
       "       [ 0.        ,  0.        ,  0.        , ..., 13.82755724,\n",
       "        36.16349901,  0.        ],\n",
       "       [ 0.        ,  0.        ,  0.        , ...,  0.        ,\n",
       "        13.85374794, 36.16730109]])"
      ]
     },
     "execution_count": 11,
     "metadata": {},
     "output_type": "execute_result"
    }
   ],
   "source": [
    "%time np.linalg.cholesky(A.toarray())"
   ]
  },
  {
   "cell_type": "code",
   "execution_count": 12,
   "metadata": {},
   "outputs": [
    {
     "data": {
      "text/plain": [
       "True"
      ]
     },
     "execution_count": 12,
     "metadata": {},
     "output_type": "execute_result"
    }
   ],
   "source": [
    "# comparison with numpy's decomposition algorithm\n",
    "my_chol = decomp_cholesky_tridiag(A)\n",
    "np_chol = np.linalg.cholesky(A.toarray())\n",
    "np.allclose(my_chol.toarray(), np_chol)"
   ]
  },
  {
   "cell_type": "code",
   "execution_count": 13,
   "metadata": {},
   "outputs": [
    {
     "data": {
      "text/plain": [
       "array([  2.,   3.,   4.,   5.,   6.,   7.,   8.,   9.,  10.,  11.,  12.,\n",
       "        13.,  14.,  15.,  16.,  17.,  18.,  19.,  20.,  21.,  22.,  23.,\n",
       "        24.,  25.,  26.,  27.,  28.,  29.,  30.,  31.,  32.,  33.,  34.,\n",
       "        35.,  36.,  37.,  38.,  39.,  40.,  41.,  42.,  43.,  44.,  45.,\n",
       "        46.,  47.,  48.,  49.,  50.,  51.,  52.,  53.,  54.,  55.,  56.,\n",
       "        57.,  58.,  59.,  60.,  61.,  62.,  63.,  64.,  65.,  66.,  67.,\n",
       "        68.,  69.,  70.,  71.,  72.,  73.,  74.,  75.,  76.,  77.,  78.,\n",
       "        79.,  80.,  81.,  82.,  83.,  84.,  85.,  86.,  87.,  88.,  89.,\n",
       "        90.,  91.,  92.,  93.,  94.,  95.,  96.,  97.,  98.,  99., 100.,\n",
       "       101., 102., 103., 104., 105., 106., 107., 108., 109., 110., 111.,\n",
       "       112., 113., 114., 115., 116., 117., 118., 119., 120., 121., 122.,\n",
       "       123., 124., 125., 126., 127., 128., 129., 130., 131., 132., 133.,\n",
       "       134., 135., 136., 137., 138., 139., 140., 141., 142., 143., 144.,\n",
       "       145., 146., 147., 148., 149., 150., 151., 152., 153., 154., 155.,\n",
       "       156., 157., 158., 159., 160., 161., 162., 163., 164., 165., 166.,\n",
       "       167., 168., 169., 170., 171., 172., 173., 174., 175., 176., 177.,\n",
       "       178., 179., 180., 181., 182., 183., 184., 185., 186., 187., 188.,\n",
       "       189., 190., 191., 192., 193., 194., 195., 196., 197., 198., 199.,\n",
       "       200., 201., 202., 203., 204., 205., 206., 207., 208., 209., 210.,\n",
       "       211., 212., 213., 214., 215., 216., 217., 218., 219., 220., 221.,\n",
       "       222., 223., 224., 225., 226., 227., 228., 229., 230., 231., 232.,\n",
       "       233., 234., 235., 236., 237., 238., 239., 240., 241., 242., 243.,\n",
       "       244., 245., 246., 247., 248., 249., 250., 251., 252., 253., 254.,\n",
       "       255., 256., 257., 258., 259., 260., 261., 262., 263., 264., 265.,\n",
       "       266., 267., 268., 269., 270., 271., 272., 273., 274., 275., 276.,\n",
       "       277., 278., 279., 280., 281., 282., 283., 284., 285., 286., 287.,\n",
       "       288., 289., 290., 291., 292., 293., 294., 295., 296., 297., 298.,\n",
       "       299., 300., 301., 302., 303., 304., 305., 306., 307., 308., 309.,\n",
       "       310., 311., 312., 313., 314., 315., 316., 317., 318., 319., 320.,\n",
       "       321., 322., 323., 324., 325., 326., 327., 328., 329., 330., 331.,\n",
       "       332., 333., 334., 335., 336., 337., 338., 339., 340., 341., 342.,\n",
       "       343., 344., 345., 346., 347., 348., 349., 350., 351., 352., 353.,\n",
       "       354., 355., 356., 357., 358., 359., 360., 361., 362., 363., 364.,\n",
       "       365., 366., 367., 368., 369., 370., 371., 372., 373., 374., 375.,\n",
       "       376., 377., 378., 379., 380., 381., 382., 383., 384., 385., 386.,\n",
       "       387., 388., 389., 390., 391., 392., 393., 394., 395., 396., 397.,\n",
       "       398., 399., 400., 401., 402., 403., 404., 405., 406., 407., 408.,\n",
       "       409., 410., 411., 412., 413., 414., 415., 416., 417., 418., 419.,\n",
       "       420., 421., 422., 423., 424., 425., 426., 427., 428., 429., 430.,\n",
       "       431., 432., 433., 434., 435., 436., 437., 438., 439., 440., 441.,\n",
       "       442., 443., 444., 445., 446., 447., 448., 449., 450., 451., 452.,\n",
       "       453., 454., 455., 456., 457., 458., 459., 460., 461., 462., 463.,\n",
       "       464., 465., 466., 467., 468., 469., 470., 471., 472., 473., 474.,\n",
       "       475., 476., 477., 478., 479., 480., 481., 482., 483., 484., 485.,\n",
       "       486., 487., 488., 489., 490., 491., 492., 493., 494., 495., 496.,\n",
       "       497., 498., 499., 500., 501.])"
      ]
     },
     "execution_count": 13,
     "metadata": {},
     "output_type": "execute_result"
    }
   ],
   "source": [
    "# Solve Ax=b\n",
    "b = np.float64(np.arange(2, n+2))\n",
    "b"
   ]
  },
  {
   "cell_type": "code",
   "execution_count": 14,
   "metadata": {},
   "outputs": [
    {
     "name": "stdout",
     "output_type": "stream",
     "text": [
      "Wall time: 17.4 ms\n"
     ]
    },
    {
     "data": {
      "text/plain": [
       "array([0.00198909, 0.00297228, 0.00395163, 0.00492518, 0.005893  ,\n",
       "       0.00685513, 0.00781162, 0.00876252, 0.00970788, 0.01064775,\n",
       "       0.01158218, 0.01251121, 0.01343489, 0.01435327, 0.01526639,\n",
       "       0.0161743 , 0.01707703, 0.01797465, 0.01886718, 0.01975468,\n",
       "       0.02063718, 0.02151472, 0.02238736, 0.02325512, 0.02411806,\n",
       "       0.0249762 , 0.0258296 , 0.02667828, 0.02752229, 0.02836167,\n",
       "       0.02919646, 0.03002668, 0.03085239, 0.03167361, 0.03249038,\n",
       "       0.03330275, 0.03411074, 0.03491439, 0.03571373, 0.0365088 ,\n",
       "       0.03729964, 0.03808627, 0.03886873, 0.03964706, 0.04042128,\n",
       "       0.04119143, 0.04195754, 0.04271965, 0.04347778, 0.04423196,\n",
       "       0.04498223, 0.04572861, 0.04647114, 0.04720985, 0.04794476,\n",
       "       0.04867591, 0.04940331, 0.05012702, 0.05084704, 0.05156341,\n",
       "       0.05227615, 0.0529853 , 0.05369088, 0.05439291, 0.05509143,\n",
       "       0.05578646, 0.05647803, 0.05716616, 0.05785087, 0.0585322 ,\n",
       "       0.05921017, 0.0598848 , 0.06055612, 0.06122415, 0.06188891,\n",
       "       0.06255044, 0.06320875, 0.06386386, 0.06451581, 0.06516461,\n",
       "       0.06581028, 0.06645286, 0.06709235, 0.06772878, 0.06836219,\n",
       "       0.06899257, 0.06961997, 0.07024439, 0.07086586, 0.07148441,\n",
       "       0.07210004, 0.07271279, 0.07332267, 0.0739297 , 0.0745339 ,\n",
       "       0.0751353 , 0.07573391, 0.07632974, 0.07692283, 0.07751319,\n",
       "       0.07810083, 0.07868579, 0.07926806, 0.07984768, 0.08042466,\n",
       "       0.08099902, 0.08157078, 0.08213995, 0.08270655, 0.08327061,\n",
       "       0.08383213, 0.08439113, 0.08494764, 0.08550166, 0.08605322,\n",
       "       0.08660232, 0.087149  , 0.08769325, 0.08823511, 0.08877458,\n",
       "       0.08931168, 0.08984642, 0.09037883, 0.09090892, 0.09143669,\n",
       "       0.09196218, 0.09248538, 0.09300632, 0.09352502, 0.09404148,\n",
       "       0.09455572, 0.09506775, 0.09557759, 0.09608526, 0.09659076,\n",
       "       0.09709411, 0.09759533, 0.09809442, 0.09859141, 0.0990863 ,\n",
       "       0.0995791 , 0.10006984, 0.10055852, 0.10104516, 0.10152977,\n",
       "       0.10201236, 0.10249295, 0.10297154, 0.10344815, 0.1039228 ,\n",
       "       0.10439548, 0.10486623, 0.10533504, 0.10580193, 0.10626692,\n",
       "       0.10673   , 0.10719121, 0.10765053, 0.108108  , 0.10856362,\n",
       "       0.10901739, 0.10946934, 0.10991947, 0.11036779, 0.11081432,\n",
       "       0.11125906, 0.11170203, 0.11214324, 0.11258269, 0.1130204 ,\n",
       "       0.11345637, 0.11389063, 0.11432317, 0.11475401, 0.11518316,\n",
       "       0.11561063, 0.11603642, 0.11646056, 0.11688304, 0.11730387,\n",
       "       0.11772308, 0.11814066, 0.11855662, 0.11897099, 0.11938375,\n",
       "       0.11979493, 0.12020453, 0.12061256, 0.12101904, 0.12142396,\n",
       "       0.12182734, 0.12222919, 0.12262952, 0.12302833, 0.12342563,\n",
       "       0.12382143, 0.12421575, 0.12460858, 0.12499994, 0.12538983,\n",
       "       0.12577827, 0.12616526, 0.12655081, 0.12693493, 0.12731762,\n",
       "       0.1276989 , 0.12807876, 0.12845723, 0.1288343 , 0.12920999,\n",
       "       0.1295843 , 0.12995724, 0.13032882, 0.13069904, 0.13106791,\n",
       "       0.13143545, 0.13180165, 0.13216652, 0.13253008, 0.13289232,\n",
       "       0.13325326, 0.1336129 , 0.13397125, 0.13432832, 0.13468411,\n",
       "       0.13503863, 0.13539189, 0.13574389, 0.13609464, 0.13644414,\n",
       "       0.13679242, 0.13713946, 0.13748528, 0.13782988, 0.13817327,\n",
       "       0.13851545, 0.13885644, 0.13919624, 0.13953485, 0.13987228,\n",
       "       0.14020854, 0.14054364, 0.14087757, 0.14121035, 0.14154197,\n",
       "       0.14187246, 0.14220181, 0.14253002, 0.14285712, 0.14318309,\n",
       "       0.14350795, 0.1438317 , 0.14415435, 0.1444759 , 0.14479636,\n",
       "       0.14511573, 0.14543402, 0.14575124, 0.14606739, 0.14638248,\n",
       "       0.14669651, 0.14700948, 0.14732141, 0.14763229, 0.14794214,\n",
       "       0.14825095, 0.14855874, 0.14886551, 0.14917125, 0.14947599,\n",
       "       0.14977972, 0.15008245, 0.15038418, 0.15068492, 0.15098467,\n",
       "       0.15128344, 0.15158123, 0.15187805, 0.1521739 , 0.15246879,\n",
       "       0.15276272, 0.15305569, 0.15334772, 0.1536388 , 0.15392894,\n",
       "       0.15421815, 0.15450643, 0.15479378, 0.1550802 , 0.15536571,\n",
       "       0.15565031, 0.155934  , 0.15621678, 0.15649866, 0.15677965,\n",
       "       0.15705975, 0.15733896, 0.15761728, 0.15789473, 0.1581713 ,\n",
       "       0.158447  , 0.15872184, 0.15899581, 0.15926892, 0.15954118,\n",
       "       0.15981259, 0.16008315, 0.16035288, 0.16062176, 0.1608898 ,\n",
       "       0.16115702, 0.16142341, 0.16168898, 0.16195372, 0.16221766,\n",
       "       0.16248078, 0.16274309, 0.1630046 , 0.1632653 , 0.16352521,\n",
       "       0.16378433, 0.16404266, 0.1643002 , 0.16455696, 0.16481294,\n",
       "       0.16506815, 0.16532258, 0.16557624, 0.16582915, 0.16608128,\n",
       "       0.16633267, 0.16658329, 0.16683317, 0.16708229, 0.16733068,\n",
       "       0.16757832, 0.16782522, 0.16807139, 0.16831683, 0.16856154,\n",
       "       0.16880553, 0.16904879, 0.16929134, 0.16953317, 0.16977429,\n",
       "       0.1700147 , 0.17025441, 0.17049341, 0.17073171, 0.17096932,\n",
       "       0.17120623, 0.17144245, 0.17167799, 0.17191284, 0.17214701,\n",
       "       0.1723805 , 0.17261331, 0.17284545, 0.17307693, 0.17330773,\n",
       "       0.17353788, 0.17376736, 0.17399618, 0.17422435, 0.17445186,\n",
       "       0.17467873, 0.17490495, 0.17513052, 0.17535546, 0.17557975,\n",
       "       0.17580341, 0.17602643, 0.17624883, 0.17647059, 0.17669174,\n",
       "       0.17691225, 0.17713215, 0.17735143, 0.1775701 , 0.17778815,\n",
       "       0.1780056 , 0.17822244, 0.17843867, 0.1786543 , 0.17886933,\n",
       "       0.17908377, 0.1792976 , 0.17951085, 0.17972351, 0.17993558,\n",
       "       0.18014707, 0.18035797, 0.18056829, 0.18077804, 0.18098721,\n",
       "       0.18119581, 0.18140384, 0.1816113 , 0.18181819, 0.18202452,\n",
       "       0.18223029, 0.1824355 , 0.18264015, 0.18284425, 0.1830478 ,\n",
       "       0.1832508 , 0.18345325, 0.18365515, 0.18385651, 0.18405733,\n",
       "       0.18425761, 0.18445736, 0.18465657, 0.18485524, 0.18505339,\n",
       "       0.18525101, 0.1854481 , 0.18564467, 0.18584072, 0.18603625,\n",
       "       0.18623125, 0.18642575, 0.18661973, 0.1868132 , 0.18700616,\n",
       "       0.18719861, 0.18739055, 0.187582  , 0.18777294, 0.18796338,\n",
       "       0.18815332, 0.18834277, 0.18853172, 0.18872018, 0.18890816,\n",
       "       0.18909564, 0.18928264, 0.18946915, 0.18965518, 0.18984073,\n",
       "       0.19002581, 0.1902104 , 0.19039452, 0.19057817, 0.19076135,\n",
       "       0.19094405, 0.19112629, 0.19130806, 0.19148937, 0.19167022,\n",
       "       0.19185061, 0.19203053, 0.19221   , 0.19238902, 0.19256758,\n",
       "       0.19274569, 0.19292335, 0.19310056, 0.19327732, 0.19345364,\n",
       "       0.19362952, 0.19380495, 0.19397995, 0.1941545 , 0.19432862,\n",
       "       0.1945023 , 0.19467555, 0.19484837, 0.19502076, 0.19519272,\n",
       "       0.19536425, 0.19553536, 0.19570604, 0.1958763 , 0.19604614,\n",
       "       0.19621556, 0.19638456, 0.19655315, 0.19672132, 0.19688908,\n",
       "       0.19705643, 0.19722337, 0.19738989, 0.19755603, 0.1977217 ,\n",
       "       0.19788715, 0.1980517 , 0.19821715, 0.19837876, 0.19854912,\n",
       "       0.1986948 , 0.19890444, 0.1989434 , 0.19943173, 0.1987339 ,\n",
       "       0.20115631, 0.19538036, 0.21110173, 0.17054962, 0.27703643])"
      ]
     },
     "execution_count": 14,
     "metadata": {},
     "output_type": "execute_result"
    }
   ],
   "source": [
    "%time solve_cholesky(A,b)"
   ]
  },
  {
   "cell_type": "code",
   "execution_count": 15,
   "metadata": {},
   "outputs": [
    {
     "name": "stdout",
     "output_type": "stream",
     "text": [
      "Wall time: 36.2 ms\n"
     ]
    },
    {
     "data": {
      "text/plain": [
       "array([0.00198909, 0.00297228, 0.00395163, 0.00492518, 0.005893  ,\n",
       "       0.00685513, 0.00781162, 0.00876252, 0.00970788, 0.01064775,\n",
       "       0.01158218, 0.01251121, 0.01343489, 0.01435327, 0.01526639,\n",
       "       0.0161743 , 0.01707703, 0.01797465, 0.01886718, 0.01975468,\n",
       "       0.02063718, 0.02151472, 0.02238736, 0.02325512, 0.02411806,\n",
       "       0.0249762 , 0.0258296 , 0.02667828, 0.02752229, 0.02836167,\n",
       "       0.02919646, 0.03002668, 0.03085239, 0.03167361, 0.03249038,\n",
       "       0.03330275, 0.03411074, 0.03491439, 0.03571373, 0.0365088 ,\n",
       "       0.03729964, 0.03808627, 0.03886873, 0.03964706, 0.04042128,\n",
       "       0.04119143, 0.04195754, 0.04271965, 0.04347778, 0.04423196,\n",
       "       0.04498223, 0.04572861, 0.04647114, 0.04720985, 0.04794476,\n",
       "       0.04867591, 0.04940331, 0.05012702, 0.05084704, 0.05156341,\n",
       "       0.05227615, 0.0529853 , 0.05369088, 0.05439291, 0.05509143,\n",
       "       0.05578646, 0.05647803, 0.05716616, 0.05785087, 0.0585322 ,\n",
       "       0.05921017, 0.0598848 , 0.06055612, 0.06122415, 0.06188891,\n",
       "       0.06255044, 0.06320875, 0.06386386, 0.06451581, 0.06516461,\n",
       "       0.06581028, 0.06645286, 0.06709235, 0.06772878, 0.06836219,\n",
       "       0.06899257, 0.06961997, 0.07024439, 0.07086586, 0.07148441,\n",
       "       0.07210004, 0.07271279, 0.07332267, 0.0739297 , 0.0745339 ,\n",
       "       0.0751353 , 0.07573391, 0.07632974, 0.07692283, 0.07751319,\n",
       "       0.07810083, 0.07868579, 0.07926806, 0.07984768, 0.08042466,\n",
       "       0.08099902, 0.08157078, 0.08213995, 0.08270655, 0.08327061,\n",
       "       0.08383213, 0.08439113, 0.08494764, 0.08550166, 0.08605322,\n",
       "       0.08660232, 0.087149  , 0.08769325, 0.08823511, 0.08877458,\n",
       "       0.08931168, 0.08984642, 0.09037883, 0.09090892, 0.09143669,\n",
       "       0.09196218, 0.09248538, 0.09300632, 0.09352502, 0.09404148,\n",
       "       0.09455572, 0.09506775, 0.09557759, 0.09608526, 0.09659076,\n",
       "       0.09709411, 0.09759533, 0.09809442, 0.09859141, 0.0990863 ,\n",
       "       0.0995791 , 0.10006984, 0.10055852, 0.10104516, 0.10152977,\n",
       "       0.10201236, 0.10249295, 0.10297154, 0.10344815, 0.1039228 ,\n",
       "       0.10439548, 0.10486623, 0.10533504, 0.10580193, 0.10626692,\n",
       "       0.10673   , 0.10719121, 0.10765053, 0.108108  , 0.10856362,\n",
       "       0.10901739, 0.10946934, 0.10991947, 0.11036779, 0.11081432,\n",
       "       0.11125906, 0.11170203, 0.11214324, 0.11258269, 0.1130204 ,\n",
       "       0.11345637, 0.11389063, 0.11432317, 0.11475401, 0.11518316,\n",
       "       0.11561063, 0.11603642, 0.11646056, 0.11688304, 0.11730387,\n",
       "       0.11772308, 0.11814066, 0.11855662, 0.11897099, 0.11938375,\n",
       "       0.11979493, 0.12020453, 0.12061256, 0.12101904, 0.12142396,\n",
       "       0.12182734, 0.12222919, 0.12262952, 0.12302833, 0.12342563,\n",
       "       0.12382143, 0.12421575, 0.12460858, 0.12499994, 0.12538983,\n",
       "       0.12577827, 0.12616526, 0.12655081, 0.12693493, 0.12731762,\n",
       "       0.1276989 , 0.12807876, 0.12845723, 0.1288343 , 0.12920999,\n",
       "       0.1295843 , 0.12995724, 0.13032882, 0.13069904, 0.13106791,\n",
       "       0.13143545, 0.13180165, 0.13216652, 0.13253008, 0.13289232,\n",
       "       0.13325326, 0.1336129 , 0.13397125, 0.13432832, 0.13468411,\n",
       "       0.13503863, 0.13539189, 0.13574389, 0.13609464, 0.13644414,\n",
       "       0.13679242, 0.13713946, 0.13748528, 0.13782988, 0.13817327,\n",
       "       0.13851545, 0.13885644, 0.13919624, 0.13953485, 0.13987228,\n",
       "       0.14020854, 0.14054364, 0.14087757, 0.14121035, 0.14154197,\n",
       "       0.14187246, 0.14220181, 0.14253002, 0.14285712, 0.14318309,\n",
       "       0.14350795, 0.1438317 , 0.14415435, 0.1444759 , 0.14479636,\n",
       "       0.14511573, 0.14543402, 0.14575124, 0.14606739, 0.14638248,\n",
       "       0.14669651, 0.14700948, 0.14732141, 0.14763229, 0.14794214,\n",
       "       0.14825095, 0.14855874, 0.14886551, 0.14917125, 0.14947599,\n",
       "       0.14977972, 0.15008245, 0.15038418, 0.15068492, 0.15098467,\n",
       "       0.15128344, 0.15158123, 0.15187805, 0.1521739 , 0.15246879,\n",
       "       0.15276272, 0.15305569, 0.15334772, 0.1536388 , 0.15392894,\n",
       "       0.15421815, 0.15450643, 0.15479378, 0.1550802 , 0.15536571,\n",
       "       0.15565031, 0.155934  , 0.15621678, 0.15649866, 0.15677965,\n",
       "       0.15705975, 0.15733896, 0.15761728, 0.15789473, 0.1581713 ,\n",
       "       0.158447  , 0.15872184, 0.15899581, 0.15926892, 0.15954118,\n",
       "       0.15981259, 0.16008315, 0.16035288, 0.16062176, 0.1608898 ,\n",
       "       0.16115702, 0.16142341, 0.16168898, 0.16195372, 0.16221766,\n",
       "       0.16248078, 0.16274309, 0.1630046 , 0.1632653 , 0.16352521,\n",
       "       0.16378433, 0.16404266, 0.1643002 , 0.16455696, 0.16481294,\n",
       "       0.16506815, 0.16532258, 0.16557624, 0.16582915, 0.16608128,\n",
       "       0.16633267, 0.16658329, 0.16683317, 0.16708229, 0.16733068,\n",
       "       0.16757832, 0.16782522, 0.16807139, 0.16831683, 0.16856154,\n",
       "       0.16880553, 0.16904879, 0.16929134, 0.16953317, 0.16977429,\n",
       "       0.1700147 , 0.17025441, 0.17049341, 0.17073171, 0.17096932,\n",
       "       0.17120623, 0.17144245, 0.17167799, 0.17191284, 0.17214701,\n",
       "       0.1723805 , 0.17261331, 0.17284545, 0.17307693, 0.17330773,\n",
       "       0.17353788, 0.17376736, 0.17399618, 0.17422435, 0.17445186,\n",
       "       0.17467873, 0.17490495, 0.17513052, 0.17535546, 0.17557975,\n",
       "       0.17580341, 0.17602643, 0.17624883, 0.17647059, 0.17669174,\n",
       "       0.17691225, 0.17713215, 0.17735143, 0.1775701 , 0.17778815,\n",
       "       0.1780056 , 0.17822244, 0.17843867, 0.1786543 , 0.17886933,\n",
       "       0.17908377, 0.1792976 , 0.17951085, 0.17972351, 0.17993558,\n",
       "       0.18014707, 0.18035797, 0.18056829, 0.18077804, 0.18098721,\n",
       "       0.18119581, 0.18140384, 0.1816113 , 0.18181819, 0.18202452,\n",
       "       0.18223029, 0.1824355 , 0.18264015, 0.18284425, 0.1830478 ,\n",
       "       0.1832508 , 0.18345325, 0.18365515, 0.18385651, 0.18405733,\n",
       "       0.18425761, 0.18445736, 0.18465657, 0.18485524, 0.18505339,\n",
       "       0.18525101, 0.1854481 , 0.18564467, 0.18584072, 0.18603625,\n",
       "       0.18623125, 0.18642575, 0.18661973, 0.1868132 , 0.18700616,\n",
       "       0.18719861, 0.18739055, 0.187582  , 0.18777294, 0.18796338,\n",
       "       0.18815332, 0.18834277, 0.18853172, 0.18872018, 0.18890816,\n",
       "       0.18909564, 0.18928264, 0.18946915, 0.18965518, 0.18984073,\n",
       "       0.19002581, 0.1902104 , 0.19039452, 0.19057817, 0.19076135,\n",
       "       0.19094405, 0.19112629, 0.19130806, 0.19148937, 0.19167022,\n",
       "       0.19185061, 0.19203053, 0.19221   , 0.19238902, 0.19256758,\n",
       "       0.19274569, 0.19292335, 0.19310056, 0.19327732, 0.19345364,\n",
       "       0.19362952, 0.19380495, 0.19397995, 0.1941545 , 0.19432862,\n",
       "       0.1945023 , 0.19467555, 0.19484837, 0.19502076, 0.19519272,\n",
       "       0.19536425, 0.19553536, 0.19570604, 0.1958763 , 0.19604614,\n",
       "       0.19621556, 0.19638456, 0.19655315, 0.19672132, 0.19688908,\n",
       "       0.19705643, 0.19722337, 0.19738989, 0.19755603, 0.1977217 ,\n",
       "       0.19788715, 0.1980517 , 0.19821715, 0.19837876, 0.19854912,\n",
       "       0.1986948 , 0.19890444, 0.1989434 , 0.19943173, 0.1987339 ,\n",
       "       0.20115631, 0.19538036, 0.21110173, 0.17054962, 0.27703643])"
      ]
     },
     "execution_count": 15,
     "metadata": {},
     "output_type": "execute_result"
    }
   ],
   "source": [
    "%time np.linalg.solve(A.toarray(),b)"
   ]
  },
  {
   "cell_type": "code",
   "execution_count": 16,
   "metadata": {},
   "outputs": [
    {
     "data": {
      "text/plain": [
       "True"
      ]
     },
     "execution_count": 16,
     "metadata": {},
     "output_type": "execute_result"
    }
   ],
   "source": [
    "# check if my solution and numpy solution are the same\n",
    "my_solution = solve_cholesky(A,b)\n",
    "np_solution = np.linalg.solve(A.toarray(),b)\n",
    "np.allclose(my_solution,np_solution)"
   ]
  },
  {
   "cell_type": "code",
   "execution_count": 17,
   "metadata": {},
   "outputs": [
    {
     "data": {
      "text/plain": [
       "Text(0, 0.5, 'x_i')"
      ]
     },
     "execution_count": 17,
     "metadata": {},
     "output_type": "execute_result"
    },
    {
     "data": {
      "image/png": "[encoded data removed]",
      "text/plain": [
       "<Figure size 1000x600 with 1 Axes>"
      ]
     },
     "metadata": {
      "needs_background": "light"
     },
     "output_type": "display_data"
    }
   ],
   "source": [
    "# visualisation of solution compared to numpy's linalg.solve() function\n",
    "import matplotlib.pyplot as plt\n",
    "plt.rcParams['figure.figsize'] = [10, 6]\n",
    "plt.rcParams['figure.dpi'] = 100 \n",
    "\n",
    "fig = plt.figure()\n",
    "ax = plt.axes()\n",
    "plt.grid(ls='--')\n",
    "plt.plot(my_solution,'o',label='my solution')\n",
    "plt.plot(np_solution, '.',label = 'numpy solution')\n",
    "plt.legend()\n",
    "ax.set_xlabel(\"i\")\n",
    "ax.set_ylabel(\"x_i\")"
   ]
  },
  {
   "cell_type": "code",
   "execution_count": null,
   "metadata": {},
   "outputs": [],
   "source": []
  }
 ],
 "metadata": {
  "kernelspec": {
   "display_name": "Python 3",
   "language": "python",
   "name": "python3"
  },
  "language_info": {
   "codemirror_mode": {
    "name": "ipython",
    "version": 3
   },
   "file_extension": ".py",
   "mimetype": "text/x-python",
   "name": "python",
   "nbconvert_exporter": "python",
   "pygments_lexer": "ipython3",
   "version": "3.8.1"
  }
 },
 "nbformat": 4,
 "nbformat_minor": 4
}
