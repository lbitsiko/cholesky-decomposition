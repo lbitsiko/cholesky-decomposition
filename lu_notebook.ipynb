{
 "cells": [
  {
   "cell_type": "code",
   "execution_count": 1,
   "metadata": {},
   "outputs": [],
   "source": [
    "import numpy as np"
   ]
  },
  {
   "cell_type": "code",
   "execution_count": 2,
   "metadata": {},
   "outputs": [],
   "source": [
    "# decompose a tridiagonal matrix into its LU decomposition (A=LU)\n",
    "def decomp_LU_tridiag(A):\n",
    "    Ls = []\n",
    "    Us = []\n",
    "    n = A.shape[0]\n",
    "\n",
    "    ds = A.diagonal()\n",
    "    es = A.diagonal(-1)\n",
    "    fs = A.diagonal(1)\n",
    "\n",
    "    # first l1, u1 = f1/l1 (in python start with 0)\n",
    "    Ls.append(ds[0])\n",
    "    Us.append(fs[0]/Ls[0])\n",
    "    for i in range(1, n-1): # i=2~n-1  (in python i=1~n-2)\n",
    "        Ls.append(ds[i]-es[i]*Us[i-1])\n",
    "        Us.append(fs[i]/Ls[i])\n",
    "    Ls.append(ds[n-1] - es[n-2] * Us[n-2])\n",
    "    Us = np.insert(Us,0,0.0) # necessary for spdiags\n",
    "\n",
    "    Ls = np.array(Ls)\n",
    "    Us = np.array(Us)\n",
    "\n",
    "    es = np.insert(es, len(es), 0.0) #necessary for spdiags\n",
    "\n",
    "    #array Ls to diagonal matrix L\n",
    "    diags_forL = np.array([Ls, es])\n",
    "    positions_of_diags_forL = np.array([0, -1])\n",
    "    L = spdiags(diags_forL, positions_of_diags_forL, n, n)\n",
    "\n",
    "    #array Us to diagonal matrix U\n",
    "    diags_forU = np.array([Us, np.ones(n)])\n",
    "    positions_of_diags_forU = np.array([1, 0])\n",
    "    U = spdiags(diags_forU, positions_of_diags_forU, n, n)\n",
    "\n",
    "    return L, U\n",
    "\n",
    "#solve AX=b where A is a triadiagonal matrix \n",
    "def solve_tridiag_LU(A,b):\n",
    "    L, U = decomp_LU_tridiag(A)\n",
    "\n",
    "    Ls = L.diagonal()\n",
    "    Us = U.diagonal(1)\n",
    "    es = L.diagonal(-1)\n",
    "\n",
    "    y = [b[0]/Ls[0]]\n",
    "    n=len(b)\n",
    "    for i in range(1,n):\n",
    "        y.append((b[i]-es[i-1]*y[i-1])/Ls[i])\n",
    "    y = np.array(y)\n",
    "\n",
    "    x = [y[len(y)-1]]\n",
    "    count = 0\n",
    "    for i in range(n-2,-1,-1):\n",
    "        x.append(y[i] - Us[i]*x[count])\n",
    "        count += 1\n",
    "    return np.array(x[::-1])"
   ]
  },
  {
   "cell_type": "code",
   "execution_count": 3,
   "metadata": {},
   "outputs": [
    {
     "name": "stdout",
     "output_type": "stream",
     "text": [
      "[[1001.    3.    0. ...    0.    0.    0.]\n",
      " [   3. 1002.    4. ...    0.    0.    0.]\n",
      " [   0.    4. 1003. ...    0.    0.    0.]\n",
      " ...\n",
      " [   0.    0.    0. ... 1098.  100.    0.]\n",
      " [   0.    0.    0. ...  100. 1099.  101.]\n",
      " [   0.    0.    0. ...    0.  101. 1100.]]\n"
     ]
    },
    {
     "data": {
      "text/plain": [
       "scipy.sparse.dia.dia_matrix"
      ]
     },
     "execution_count": 3,
     "metadata": {},
     "output_type": "execute_result"
    }
   ],
   "source": [
    "#store matrix A as a tridiagonal matrix\n",
    "d = np.float64(np.arange(1001,1101)) #principal diagonal elements, d_i\n",
    "off_diag = np.float64(np.arange(2,103))\n",
    "es = off_diag[1:]\n",
    "fs = off_diag[:len(off_diag)-1]\n",
    "\n",
    "from scipy.sparse import spdiags\n",
    "diagonal_elements = np.array([d, es, fs])\n",
    "diagonal_positions = np.array([0,-1,1])\n",
    "A = spdiags(diagonal_elements, diagonal_positions, 100, 100)\n",
    "print(A.toarray())\n",
    "type(A)"
   ]
  },
  {
   "cell_type": "code",
   "execution_count": 4,
   "metadata": {},
   "outputs": [
    {
     "data": {
      "text/plain": [
       "array([  2.,   3.,   4.,   5.,   6.,   7.,   8.,   9.,  10.,  11.,  12.,\n",
       "        13.,  14.,  15.,  16.,  17.,  18.,  19.,  20.,  21.,  22.,  23.,\n",
       "        24.,  25.,  26.,  27.,  28.,  29.,  30.,  31.,  32.,  33.,  34.,\n",
       "        35.,  36.,  37.,  38.,  39.,  40.,  41.,  42.,  43.,  44.,  45.,\n",
       "        46.,  47.,  48.,  49.,  50.,  51.,  52.,  53.,  54.,  55.,  56.,\n",
       "        57.,  58.,  59.,  60.,  61.,  62.,  63.,  64.,  65.,  66.,  67.,\n",
       "        68.,  69.,  70.,  71.,  72.,  73.,  74.,  75.,  76.,  77.,  78.,\n",
       "        79.,  80.,  81.,  82.,  83.,  84.,  85.,  86.,  87.,  88.,  89.,\n",
       "        90.,  91.,  92.,  93.,  94.,  95.,  96.,  97.,  98.,  99., 100.,\n",
       "       101.])"
      ]
     },
     "execution_count": 4,
     "metadata": {},
     "output_type": "execute_result"
    }
   ],
   "source": [
    "# Solve Ax=b\n",
    "b = np.float64(np.arange(2, 102))\n",
    "b"
   ]
  },
  {
   "cell_type": "code",
   "execution_count": 5,
   "metadata": {},
   "outputs": [
    {
     "name": "stdout",
     "output_type": "stream",
     "text": [
      "Wall time: 1.49 ms\n"
     ]
    },
    {
     "data": {
      "text/plain": [
       "array([0.00198909, 0.00297229, 0.00395165, 0.00492521, 0.00589303,\n",
       "       0.00685517, 0.00781168, 0.00876259, 0.00970797, 0.01064786,\n",
       "       0.01158231, 0.01251136, 0.01343507, 0.01435347, 0.01526662,\n",
       "       0.01617455, 0.01707732, 0.01797497, 0.01886753, 0.01975506,\n",
       "       0.0206376 , 0.02151518, 0.02238785, 0.02325565, 0.02411863,\n",
       "       0.02497681, 0.02583025, 0.02667897, 0.02752303, 0.02836245,\n",
       "       0.02919728, 0.03002756, 0.03085331, 0.03167458, 0.03249141,\n",
       "       0.03330382, 0.03411186, 0.03491556, 0.03571496, 0.03651009,\n",
       "       0.03730098, 0.03808766, 0.03887018, 0.03964857, 0.04042285,\n",
       "       0.04119306, 0.04195923, 0.0427214 , 0.04347958, 0.04423383,\n",
       "       0.04498416, 0.04573061, 0.0464732 , 0.04721197, 0.04794695,\n",
       "       0.04867816, 0.04940563, 0.0501294 , 0.05084949, 0.05156592,\n",
       "       0.05227874, 0.05298795, 0.0536936 , 0.05439571, 0.0550943 ,\n",
       "       0.0557894 , 0.05648103, 0.05716923, 0.05785402, 0.05853542,\n",
       "       0.05921346, 0.05988816, 0.06055955, 0.06122766, 0.0618925 ,\n",
       "       0.0625541 , 0.06321248, 0.06386767, 0.06451969, 0.06516857,\n",
       "       0.06581432, 0.06645696, 0.06709653, 0.06773305, 0.06836652,\n",
       "       0.06899699, 0.06962446, 0.07024896, 0.07087051, 0.07148913,\n",
       "       0.07210485, 0.07271767, 0.07332763, 0.07393474, 0.07453898,\n",
       "       0.07514101, 0.07573353, 0.07639722, 0.07625184, 0.08481688])"
      ]
     },
     "execution_count": 5,
     "metadata": {},
     "output_type": "execute_result"
    }
   ],
   "source": [
    "%time solve_tridiag_LU(A,b)"
   ]
  },
  {
   "cell_type": "code",
   "execution_count": 6,
   "metadata": {},
   "outputs": [
    {
     "name": "stdout",
     "output_type": "stream",
     "text": [
      "Wall time: 3.97 ms\n"
     ]
    },
    {
     "data": {
      "text/plain": [
       "array([0.00198909, 0.00297228, 0.00395163, 0.00492518, 0.005893  ,\n",
       "       0.00685513, 0.00781162, 0.00876252, 0.00970788, 0.01064775,\n",
       "       0.01158218, 0.01251121, 0.01343489, 0.01435327, 0.01526639,\n",
       "       0.0161743 , 0.01707703, 0.01797465, 0.01886718, 0.01975468,\n",
       "       0.02063718, 0.02151472, 0.02238736, 0.02325512, 0.02411806,\n",
       "       0.0249762 , 0.0258296 , 0.02667828, 0.02752229, 0.02836167,\n",
       "       0.02919646, 0.03002668, 0.03085239, 0.03167361, 0.03249038,\n",
       "       0.03330275, 0.03411074, 0.03491439, 0.03571373, 0.0365088 ,\n",
       "       0.03729964, 0.03808627, 0.03886873, 0.03964706, 0.04042128,\n",
       "       0.04119143, 0.04195754, 0.04271965, 0.04347778, 0.04423196,\n",
       "       0.04498223, 0.04572861, 0.04647114, 0.04720985, 0.04794476,\n",
       "       0.04867591, 0.04940331, 0.05012702, 0.05084704, 0.05156341,\n",
       "       0.05227615, 0.0529853 , 0.05369088, 0.05439291, 0.05509143,\n",
       "       0.05578646, 0.05647803, 0.05716616, 0.05785087, 0.0585322 ,\n",
       "       0.05921017, 0.0598848 , 0.06055612, 0.06122415, 0.06188891,\n",
       "       0.06255044, 0.06320875, 0.06386386, 0.06451581, 0.06516461,\n",
       "       0.06581028, 0.06645286, 0.06709235, 0.06772878, 0.06836219,\n",
       "       0.06899257, 0.06961997, 0.07024439, 0.07086586, 0.07148441,\n",
       "       0.07210004, 0.07271279, 0.07332267, 0.0739297 , 0.07453386,\n",
       "       0.07513581, 0.07572825, 0.07639191, 0.07624591, 0.08481742])"
      ]
     },
     "execution_count": 6,
     "metadata": {},
     "output_type": "execute_result"
    }
   ],
   "source": [
    "%time np.linalg.solve(A.toarray(),b)"
   ]
  },
  {
   "cell_type": "code",
   "execution_count": 7,
   "metadata": {},
   "outputs": [
    {
     "data": {
      "text/plain": [
       "True"
      ]
     },
     "execution_count": 7,
     "metadata": {},
     "output_type": "execute_result"
    }
   ],
   "source": [
    "solution = solve_tridiag_LU(A,b)\n",
    "np_solution = np.linalg.solve(A.toarray(),b)\n",
    "np.allclose(solution,np_solution, rtol=1e-04)"
   ]
  },
  {
   "cell_type": "code",
   "execution_count": 8,
   "metadata": {},
   "outputs": [
    {
     "data": {
      "text/plain": [
       "Text(0, 0.5, 'x_i')"
      ]
     },
     "execution_count": 8,
     "metadata": {},
     "output_type": "execute_result"
    },
    {
     "data": {
      "image/png": "[encoded data removed]",
      "text/plain": [
       "<Figure size 1000x600 with 1 Axes>"
      ]
     },
     "metadata": {
      "needs_background": "light"
     },
     "output_type": "display_data"
    }
   ],
   "source": [
    "# visualisation of solution compared to numpy's linalg.solve() function\n",
    "import matplotlib.pyplot as plt\n",
    "plt.rcParams['figure.figsize'] = [10, 6]\n",
    "plt.rcParams['figure.dpi'] = 100 \n",
    "\n",
    "fig = plt.figure()\n",
    "ax = plt.axes()\n",
    "plt.grid(ls='--')\n",
    "plt.plot(solution,'.',label='solution')\n",
    "plt.plot(np_solution, '--',label = 'numpy solution')\n",
    "plt.legend()\n",
    "ax.set_xlabel(\"i\")\n",
    "ax.set_ylabel(\"x_i\")"
   ]
  },
  {
   "cell_type": "code",
   "execution_count": null,
   "metadata": {},
   "outputs": [],
   "source": []
  }
 ],
 "metadata": {
  "kernelspec": {
   "display_name": "Python 3",
   "language": "python",
   "name": "python3"
  },
  "language_info": {
   "codemirror_mode": {
    "name": "ipython",
    "version": 3
   },
   "file_extension": ".py",
   "mimetype": "text/x-python",
   "name": "python",
   "nbconvert_exporter": "python",
   "pygments_lexer": "ipython3",
   "version": "3.8.1"
  }
 },
 "nbformat": 4,
 "nbformat_minor": 4
}
